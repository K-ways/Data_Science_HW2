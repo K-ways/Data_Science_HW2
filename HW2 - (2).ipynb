{
 "cells": [
  {
   "cell_type": "markdown",
   "metadata": {},
   "source": [
    "# Q2 - 統計該三個粉絲頁的基本資訊"
   ]
  },
  {
   "cell_type": "markdown",
   "metadata": {},
   "source": [
    "### 匯入涵式庫"
   ]
  },
  {
   "cell_type": "code",
   "execution_count": 44,
   "metadata": {
    "collapsed": false
   },
   "outputs": [],
   "source": [
    "%matplotlib inline\n",
    "import matplotlib.pyplot as plt\n",
    "import numpy as np\n",
    "import pandas as pd\n",
    "from pandas import DataFrame, Series\n",
    "from sklearn.datasets import load_iris\n",
    "from sklearn.neighbors import KNeighborsClassifier\n",
    "from sklearn.cross_validation import train_test_split\n",
    "import pyes\n",
    "es_address='127.0.0.1:9200'\n",
    "conn = pyes.es.ES(es_address)"
   ]
  },
  {
   "cell_type": "markdown",
   "metadata": {},
   "source": [
    "### Fans 數量、Posts 數量、Comments 數量"
   ]
  },
  {
   "cell_type": "code",
   "execution_count": 69,
   "metadata": {
    "collapsed": false
   },
   "outputs": [
    {
     "name": "stdout",
     "output_type": "stream",
     "text": [
      "                      Fans count  Posts count  Comments count\n",
      "大潤發 RT-mart                82187         2175           27278\n",
      "全聯福利中心                    864812         1497          276667\n",
      "家樂福 Carrefour Taiwan      745430         2312           76174\n"
     ]
    }
   ],
   "source": [
    "names = []\n",
    "fans = []\n",
    "posts = []\n",
    "comments = []\n",
    "\n",
    "def Name(fid):\n",
    "    q = pyes.query.BoolQuery()\n",
    "\n",
    "    tq = pyes.query.TermQuery(field=\"fid\", value=fid)\n",
    "    q.add_must(tq)\n",
    "    \n",
    "    result = conn.search(query=q , indices='facebook_nested' , doc_types='fanpage') \n",
    "    return result[0]['name']\n",
    "\n",
    "def Fans(fid):\n",
    "    q = pyes.query.BoolQuery()\n",
    "\n",
    "    tq = pyes.query.TermQuery(field=\"fid\", value=fid)\n",
    "    q.add_must(tq)\n",
    "\n",
    "    result = conn.search(query=q , indices='facebook_nested' , doc_types='fanpage') \n",
    "    return result[0]['likes_count']\n",
    "\n",
    "def Posts(fid):\n",
    "    q = pyes.query.BoolQuery()\n",
    "\n",
    "    tq = pyes.query.TermQuery(field=\"fid\", value=fid)\n",
    "    q.add_must(tq)\n",
    "\n",
    "    result = conn.search(query=q , indices='facebook_nested' , doc_types='post') \n",
    "    return len(result)\n",
    "\n",
    "def Comments(fid):\n",
    "    q = pyes.query.BoolQuery()\n",
    "\n",
    "    tq = pyes.query.TermQuery(field=\"fid\", value=fid)\n",
    "    q.add_must(tq)\n",
    "\n",
    "    result = conn.search(query=q , indices='facebook_nested' , doc_types='comment') \n",
    "    return len(result)\n",
    "\n",
    "def Calculation(id1, id2, id3):\n",
    "    names.append(Name(id1))\n",
    "    names.append(Name(id2))\n",
    "    names.append(Name(id3))\n",
    "    fans.append(Fans(id1))\n",
    "    fans.append(Fans(id2))\n",
    "    fans.append(Fans(id3))\n",
    "    posts.append(Posts(id1))\n",
    "    posts.append(Posts(id2))\n",
    "    posts.append(Posts(id3))\n",
    "    comments.append(Comments(id1))\n",
    "    comments.append(Comments(id2))\n",
    "    comments.append(Comments(id3))\n",
    "    \n",
    "    s0 = pd.Series(fans, index = names, name = 'Fans count')\n",
    "    s1 = pd.Series(posts,  index = names, name = 'Posts count')\n",
    "    s2 = pd.Series(comments, index = names, name = 'Comments count')\n",
    "    barResult = pd.concat([s0, s1, s2], axis=1)\n",
    "    return barResult\n",
    "    \n",
    "print Calculation(156435698616, 134004310003557, 170290829685289)"
   ]
  },
  {
   "cell_type": "markdown",
   "metadata": {
    "collapsed": true
   },
   "source": [
    "# 總結：全聯小編好猛 R\n",
    "用最少的 Post 得到最多的 Comments！"
   ]
  }
 ],
 "metadata": {
  "anaconda-cloud": {},
  "kernelspec": {
   "display_name": "Python [conda root]",
   "language": "python",
   "name": "conda-root-py"
  },
  "language_info": {
   "codemirror_mode": {
    "name": "ipython",
    "version": 2
   },
   "file_extension": ".py",
   "mimetype": "text/x-python",
   "name": "python",
   "nbconvert_exporter": "python",
   "pygments_lexer": "ipython2",
   "version": "2.7.12"
  }
 },
 "nbformat": 4,
 "nbformat_minor": 1
}
